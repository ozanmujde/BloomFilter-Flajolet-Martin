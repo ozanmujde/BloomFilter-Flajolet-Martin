{
 "cells": [
  {
   "cell_type": "markdown",
   "metadata": {},
   "source": [
    "# OZAN MUJDE"
   ]
  },
  {
   "cell_type": "code",
   "execution_count": 1,
   "metadata": {},
   "outputs": [],
   "source": [
    "import pandas as pd\n",
    "import numpy as np\n",
    "import matplotlib.pyplot as plt\n",
    "import statistics # for using harmonic mean\n",
    "import re\n"
   ]
  },
  {
   "cell_type": "code",
   "execution_count": 2,
   "metadata": {},
   "outputs": [],
   "source": [
    "def readTxt(filename):\n",
    "    \"\"\"\n",
    "    Read the txt file with utf-8 encoding then remove every non-english character then lowercase the data and save \n",
    "    every unique word in a list.\n",
    "    \"\"\"\n",
    "    with open(filename, 'r', encoding='utf-8') as f:\n",
    "        data = f.read()\n",
    "        # data = re.sub(r'[^\\w\\s]', '', data)\n",
    "        # data = data.lower()\n",
    "       \n",
    "        data = re.sub(\"[^a-zA-Z \\n]+\", \"\",data)\n",
    "        data = data.lower()\n",
    "        data = data.split()\n",
    "        return data\n",
    "        # data = list(set(data))\n",
    "        # data = list(data)\n",
    "        return data\n",
    "\n",
    "    "
   ]
  },
  {
   "cell_type": "code",
   "execution_count": 3,
   "metadata": {},
   "outputs": [
    {
     "data": {
      "text/plain": [
       "1885"
      ]
     },
     "execution_count": 3,
     "metadata": {},
     "output_type": "execute_result"
    }
   ],
   "source": [
    "len(readTxt('../test_dosyasi_2.txt'))"
   ]
  },
  {
   "cell_type": "code",
   "execution_count": 4,
   "metadata": {},
   "outputs": [
    {
     "data": {
      "text/plain": [
       "2629"
      ]
     },
     "execution_count": 4,
     "metadata": {},
     "output_type": "execute_result"
    }
   ],
   "source": [
    "train_array_len = len(readTxt('../filtrelenecek_kelimeler_2.txt'))\n",
    "train_array_len\n"
   ]
  },
  {
   "cell_type": "code",
   "execution_count": 5,
   "metadata": {},
   "outputs": [
    {
     "data": {
      "text/plain": [
       "1885"
      ]
     },
     "execution_count": 5,
     "metadata": {},
     "output_type": "execute_result"
    }
   ],
   "source": [
    "test_array_len = len(readTxt('../test_dosyasi_2.txt'))\n",
    "test_array_len"
   ]
  },
  {
   "cell_type": "markdown",
   "metadata": {},
   "source": [
    "### HASH fonksiyonlarini kisaca aciklama\n",
    " * Hocam oncelikle murmur fvn falan cok zor geldi, direkt kutuphane kullanma olsa kullanirdim ama implementasyon  zor gibiydi o yuzden onlari yapmadim.\n",
    " * Ardindan internette flajolet de ve bloom da iyi olan hashleri aradim flajolet de internette murmur3 ve bir adet de int bazli hash den bahsediyorlardi o yuzden onu gecip blooma geldim\n",
    " * Bloom filter da alttaki linkde gorebileceginiz cogu hash fonksiyonunu denedim bu 2 li guzel gibi geldi ama  diger hash'ler sanki pek de iyi sonuc vermiyor gibiydi tabii ki overfite varacak duzeyde hash'lerle oynanabilir ozellikle 2. soruda hashler asiri deger degistiriyordu ama overfit gibi olacagindan bunu yapmak istemedim.\n",
    " * DJB hashi Professor Daniel J. Bernstein bulmus asiri efektif diyorlardi koydum gercektende oyle cikti\n",
    " * SDBM hashi genel olarak cogu datasetinde iyi deniliyordu o yuzden ekledim yine hakli ciktilar\n",
    " * Diger 3 hashi kendim yaptim Mehmet  hoca 212 de string hash'i anlatirken mesela boyle olabilir gibi bir ornek vermisti onu yaptim ustune bir de asal sayi ekleyin gibi bir sey diyordu stackOverFlow da o yuzden en son asal sayi ile ust aliyorum \n",
    "\n",
    "https://www.partow.net/programming/hashfunctions/#BloomFilters\n"
   ]
  },
  {
   "cell_type": "code",
   "execution_count": 6,
   "metadata": {},
   "outputs": [],
   "source": [
    "def stringHashFunction1(data:str):\n",
    "    \"\"\"\n",
    "    This function takes a string and returns a hash value\n",
    "    DJB Hash Function    \n",
    "    \"\"\"\n",
    "    # hash = 0\n",
    "    # # print('hash3')\n",
    "    # for i in range(len(data)):\n",
    "    #     hash += ord(data[i]) * (i + 1) ** 31\n",
    "    hash = 5381;\n",
    "    i    = 0;\n",
    "    for c in data:\n",
    "        hash = ((hash << 5) + hash) + ord(c)\n",
    "        i += 1\n",
    "    return hash"
   ]
  },
  {
   "cell_type": "code",
   "execution_count": 7,
   "metadata": {},
   "outputs": [],
   "source": [
    "def stringHashFunction2(data:str):\n",
    "    \"\"\"\n",
    "    This function takes a string and returns a hash value\n",
    "    SDBM Hash Function\n",
    "    \"\"\"\n",
    "    hash = 0;\n",
    "    i    = 0;\n",
    "\n",
    "    for c in data:\n",
    "       hash = ord(c) + (hash << 6) + (hash << 16) - hash;\n",
    "    # hash = \n",
    "    # for i in range(len(data)):\n",
    "    #     hash += ord(data[i]) * (i + 1) ** 7\n",
    "    return hash"
   ]
  },
  {
   "cell_type": "code",
   "execution_count": 8,
   "metadata": {},
   "outputs": [],
   "source": [
    "def stringHashFunction3(data:str):\n",
    "    \"\"\"\n",
    "    This function takes a string and returns a hash value\n",
    "    BKDR Hash Function\n",
    "    \"\"\"\n",
    "    # seed = 131\n",
    "    # hash   = 0\n",
    "    # for c in data:\n",
    "    #     hash = ( hash * seed )+ ord(c)\n",
    "    hash = 0\n",
    "    for i in range(len(data)):\n",
    "        hash += ord(data[i]) * (i + 1) ** 11\n",
    "    return hash"
   ]
  },
  {
   "cell_type": "code",
   "execution_count": 9,
   "metadata": {},
   "outputs": [],
   "source": [
    "def stringHashFunction4(data:str):\n",
    "    \"\"\"\n",
    "    This function takes a string and returns a hash value\n",
    "    \"\"\"\n",
    "    hash = 0\n",
    "    for i in range(len(data)):\n",
    "        hash += ord(data[i]) * (i + 1) ** 13\n",
    "    return hash"
   ]
  },
  {
   "cell_type": "code",
   "execution_count": 10,
   "metadata": {},
   "outputs": [],
   "source": [
    "def stringHashFunction5(data:str):\n",
    "    \"\"\"\n",
    "    This function takes a string and returns a hash value\n",
    "    \"\"\"\n",
    "    # seed = 131\n",
    "    # hash   = 0\n",
    "    # for c in data:\n",
    "    #     hash = ( hash * seed )+ ord(c)\n",
    "    hash = 0\n",
    "    for i in range(len(data)):\n",
    "        hash += ord(data[i]) * (i + 1) ** 31\n",
    "    return hash"
   ]
  },
  {
   "cell_type": "code",
   "execution_count": 11,
   "metadata": {},
   "outputs": [],
   "source": [
    "HASH_FUNCTIONS = [stringHashFunction1, stringHashFunction2, stringHashFunction3,stringHashFunction4,stringHashFunction5]"
   ]
  },
  {
   "cell_type": "code",
   "execution_count": 12,
   "metadata": {},
   "outputs": [],
   "source": [
    "def bloomFilter(fileName, k, m):\n",
    "    \"\"\"The bloomFilter constructor function that takes stringArr, number of hash functions betwwen 1-3, and size \n",
    "    of the bloom filter. It returns a bloom filter object 0 if element is not seen 1 if the element is seen in a hash\n",
    "    function.\n",
    "\n",
    "    Args:\n",
    "        fileName: name of the file to be read\n",
    "        k (int): number of the hash functions\n",
    "        m (int): length of the bloom filter\n",
    "        return (boolean arr): array of length m with True if the element is in the bloom filter and False if not\n",
    "    \"\"\"\n",
    "    # initialize the bloom filter\n",
    "    data = readTxt(fileName)\n",
    "    # print(len(data))\n",
    "    bloom = np.zeros(m)\n",
    "    # insert the data into the bloom filter\n",
    "    for datum in data:\n",
    "        #Make bloom filter true for each individual hash function \n",
    "        for i in range(k):\n",
    "            hash = HASH_FUNCTIONS[i](datum)\n",
    "            bloom[hash % m] = True\n",
    "    return bloom\n"
   ]
  },
  {
   "cell_type": "code",
   "execution_count": 13,
   "metadata": {},
   "outputs": [],
   "source": [
    "def bloomFilterCheck(bloom, fileName, k):\n",
    "    \"\"\"The bloomFilterCheck function takes a bloom filter object,  a string and number of the hash functions that returns a boolean array of length \n",
    "    as same data with True if the element is in the bloom filter and False if not.\n",
    "\n",
    "    Args:\n",
    "        bloom (numpy arr): bloom filter object\n",
    "        fileName: name of the file to be read\n",
    "        k (int): number of the hash functions\n",
    "        return (boolean arr): array of length m with True if the element is in the bloom filter and False if not\n",
    "    \"\"\"\n",
    "    # initialize the boolean array\n",
    "    data = readTxt(fileName)\n",
    "    # print(len(data))\n",
    "    boolArr = np.zeros(len(data))\n",
    "    bloomFilterArray = []\n",
    "    # check if the data is in the bloom filter\n",
    "    for index,datum in enumerate(data):\n",
    "        count = 0\n",
    "        for i in range(k):\n",
    "            # if the element is in the bloom filter, count is incremented\n",
    "            # If the count is equal to the number of hash functions, the element is in the bloom filter\n",
    "            hash = HASH_FUNCTIONS[i](datum)\n",
    "            if bloom[hash % len(bloom)] == 1:\n",
    "                count += 1\n",
    "        if count == k:\n",
    "            boolArr[index] = True\n",
    "            bloomFilterArray.append(datum)\n",
    "    with open('filtreye_takilanlar.txt', 'w') as f:\n",
    "        for item in bloomFilterArray:\n",
    "            f.write(\"%s\\n\" % item)\n",
    "        # f.write(bloomFilterArray)\n",
    "    print('Filtreye takilanlarin uzunlugu',len(bloomFilterArray))\n",
    "    return boolArr, bloomFilterArray\n"
   ]
  },
  {
   "cell_type": "code",
   "execution_count": 14,
   "metadata": {},
   "outputs": [],
   "source": [
    "bloom = bloomFilter('../filtrelenecek_kelimeler_2.txt', 3, 2183*16)"
   ]
  },
  {
   "cell_type": "code",
   "execution_count": 15,
   "metadata": {},
   "outputs": [
    {
     "data": {
      "text/plain": [
       "array([0., 0., 0., ..., 0., 0., 0.])"
      ]
     },
     "execution_count": 15,
     "metadata": {},
     "output_type": "execute_result"
    }
   ],
   "source": [
    "bloom"
   ]
  },
  {
   "cell_type": "code",
   "execution_count": 16,
   "metadata": {},
   "outputs": [
    {
     "name": "stdout",
     "output_type": "stream",
     "text": [
      "Filtreye takilanlarin uzunlugu 916\n"
     ]
    }
   ],
   "source": [
    "boolArr,_ = bloomFilterCheck(bloom, '../test_dosyasi_2.txt', 3)"
   ]
  },
  {
   "cell_type": "code",
   "execution_count": 17,
   "metadata": {},
   "outputs": [
    {
     "data": {
      "text/plain": [
       "array([0., 0., 0., ..., 1., 0., 0.])"
      ]
     },
     "execution_count": 17,
     "metadata": {},
     "output_type": "execute_result"
    }
   ],
   "source": [
    "boolArr"
   ]
  },
  {
   "cell_type": "code",
   "execution_count": 18,
   "metadata": {},
   "outputs": [
    {
     "name": "stdout",
     "output_type": "stream",
     "text": [
      "916 1885\n"
     ]
    }
   ],
   "source": [
    "count  =0;\n",
    "for i in boolArr:\n",
    "    if i == True:\n",
    "        count += 1\n",
    "print(count,len(boolArr))"
   ]
  },
  {
   "cell_type": "code",
   "execution_count": 19,
   "metadata": {},
   "outputs": [
    {
     "data": {
      "text/plain": [
       "array([0., 0., 0., ..., 1., 0., 0.])"
      ]
     },
     "execution_count": 19,
     "metadata": {},
     "output_type": "execute_result"
    }
   ],
   "source": [
    "realTestData = data = readTxt(\"../test_dosyasi_2.txt\")\n",
    "realTrainData = data = readTxt(\"../filtrelenecek_kelimeler_2.txt\")\n",
    "realBoolArr = np.zeros(len(realTestData))\n",
    "for index,datum in enumerate(realTestData):\n",
    "    if datum in realTrainData:\n",
    "        realBoolArr[index] = True\n",
    "realBoolArr\n"
   ]
  },
  {
   "cell_type": "code",
   "execution_count": 20,
   "metadata": {},
   "outputs": [],
   "source": [
    "def findFalsePositiveRate(testArr, realArr,k,i):\n",
    "    \"\"\"\n",
    "    This function takes two boolean arrays and returns the number of false positives.\n",
    "    \"\"\"\n",
    "    count = 0\n",
    "    for index,datum in enumerate(testArr):\n",
    "        if datum == True and realArr[index] == False:\n",
    "            count += 1\n",
    "    print('Number of False Positive  for number of %s hash functions  and bit multiplier %s is %s' % (k,i, count))\n",
    "    return count / len(testArr)"
   ]
  },
  {
   "cell_type": "code",
   "execution_count": 21,
   "metadata": {},
   "outputs": [
    {
     "name": "stdout",
     "output_type": "stream",
     "text": [
      "Number of False Positive  for number of 3 hash functions  and bit multiplier 2 is 2\n"
     ]
    },
    {
     "data": {
      "text/plain": [
       "0.0010610079575596816"
      ]
     },
     "execution_count": 21,
     "metadata": {},
     "output_type": "execute_result"
    }
   ],
   "source": [
    "findFalsePositiveRate(boolArr, realBoolArr,3,2)"
   ]
  },
  {
   "cell_type": "code",
   "execution_count": 22,
   "metadata": {},
   "outputs": [],
   "source": [
    "def plotBloom(k):\n",
    "    i = 2\n",
    "    fprArr = []\n",
    "    while i <=16 : \n",
    "        bloom = bloomFilter('../filtrelenecek_kelimeler_2.txt', k, train_array_len*i)\n",
    "        boolArr,_ = bloomFilterCheck(bloom, '../test_dosyasi_2.txt', k)\n",
    "        fpr = findFalsePositiveRate(boolArr, realBoolArr,k,i)\n",
    "        fprArr.append([fpr,i])\n",
    "        i = i*2\n",
    "    return fprArr "
   ]
  },
  {
   "cell_type": "code",
   "execution_count": 23,
   "metadata": {},
   "outputs": [
    {
     "name": "stdout",
     "output_type": "stream",
     "text": [
      "Filtreye takilanlarin uzunlugu 1316\n",
      "Number of False Positive  for number of 1 hash functions  and bit multiplier 2 is 402\n",
      "Filtreye takilanlarin uzunlugu 1127\n",
      "Number of False Positive  for number of 1 hash functions  and bit multiplier 4 is 213\n",
      "Filtreye takilanlarin uzunlugu 1021\n",
      "Number of False Positive  for number of 1 hash functions  and bit multiplier 8 is 107\n",
      "Filtreye takilanlarin uzunlugu 974\n",
      "Number of False Positive  for number of 1 hash functions  and bit multiplier 16 is 60\n",
      "Filtreye takilanlarin uzunlugu 1198\n",
      "Number of False Positive  for number of 2 hash functions  and bit multiplier 2 is 284\n",
      "Filtreye takilanlarin uzunlugu 1020\n",
      "Number of False Positive  for number of 2 hash functions  and bit multiplier 4 is 106\n",
      "Filtreye takilanlarin uzunlugu 948\n",
      "Number of False Positive  for number of 2 hash functions  and bit multiplier 8 is 34\n",
      "Filtreye takilanlarin uzunlugu 925\n",
      "Number of False Positive  for number of 2 hash functions  and bit multiplier 16 is 11\n",
      "Filtreye takilanlarin uzunlugu 1203\n",
      "Number of False Positive  for number of 3 hash functions  and bit multiplier 2 is 289\n",
      "Filtreye takilanlarin uzunlugu 995\n",
      "Number of False Positive  for number of 3 hash functions  and bit multiplier 4 is 81\n",
      "Filtreye takilanlarin uzunlugu 923\n",
      "Number of False Positive  for number of 3 hash functions  and bit multiplier 8 is 9\n",
      "Filtreye takilanlarin uzunlugu 915\n",
      "Number of False Positive  for number of 3 hash functions  and bit multiplier 16 is 1\n"
     ]
    },
    {
     "data": {
      "image/png": "[encoded data removed]",
      "text/plain": [
       "<Figure size 432x288 with 1 Axes>"
      ]
     },
     "metadata": {
      "needs_background": "light"
     },
     "output_type": "display_data"
    }
   ],
   "source": [
    "for i in range(3):\n",
    "    fprArr = plotBloom(i+1)\n",
    "    fprNp = np.array(fprArr)\n",
    "    fprNp[:,1]\n",
    "    #Plot the false positive rate for different sizes of the bloom filter\n",
    "    plt.plot(fprNp[:,1],fprNp[:,0])\n",
    "# plt.legend(['False positive rate'])\n",
    "plt.xlabel('Hash Table size * data * n')\n",
    "plt.ylabel('False positive rate')\n",
    "plt.title('False positive rate for different sizes of the bloom filter')\n",
    "plt.show()\n"
   ]
  },
  {
   "cell_type": "markdown",
   "metadata": {},
   "source": [
    "### Problem 1 Aciklama\n",
    "Veriyi regex ile istenilen formata getirdikten sonra 2 adet veri ile 2 farkli islem yapmaktayiz\n",
    "\n",
    "Ilk adim Bloom Filter'i olusturma\n",
    " * Bloom filter'i olustururken bloom filter'in calisma mantigindan dolayi genelde n adet veri icin n*k lik bir boolean array acariz bu actigimiz boolean arrayi yardimi ile 2000 adet string tutmak yerine bir kac bin boolean tutabiliriz bu hafiza sikintisini ciddi bir miktarda cozer.\n",
    " * Ardindan bu olusturdugumuz array uzerinde genelde bu arrayin boyutuyla orantili artacak sekilde sectigimiz hash fonksiyonlarini kullanmaya baslariz.\n",
    " * Tum verinin (train verisi olmasada benzetilebilir) uzerinden bir defa gececek sekilde sirayla verinin her elemani k adet hash fonksiyonuna sokulur ve sonuclarinin indexi bitArrayi uzerinden 1 yapilir\n",
    " * Zaten True ya da 1 yapilan indexlere bir daha dokunulmaz \n",
    " * Olusturulan bloomFilter boolean bit arrayi return edilir\n",
    "\n",
    "Ikinci adim bir veriyi Bloom Filter uzerinden test etmek\n",
    " * Bir verinin bu listede ya da Bloom Filter da bulunmasi demek o veri icin calistirilan (Onceki asamayla ayni olmak sarti ile) hash fonksiyonlarinin sonuclarinin HER BIRININ dondugu indexin bloomFilter'imizda da True ya da 1 olmasi gerekir.\n",
    " * Veriler sirasi ile bu hash fonk. sokulur ardindan her fonk sonucu 1 ise filter'dadir degilse gecebilir deriz.\n",
    " * Bu method eger HashSet tarzi bir set kullanilmayacaksa cok ciddi bir hiz artisi da saglayacaktir.\n",
    "\n",
    " Veri zaten filtredeyse kesinlikle o hash sonuclari 1 donmektedir bu yuzden False Negativ olamaz. Goruldugu uzere de dogru hash table size'lari secilirse False Pozitiv oranlari da cogu durumda goz ardi edilebilir bir seviyeye cekilir   \n",
    "\n"
   ]
  },
  {
   "cell_type": "markdown",
   "metadata": {},
   "source": [
    "## PROBLEM 2"
   ]
  },
  {
   "cell_type": "code",
   "execution_count": 24,
   "metadata": {},
   "outputs": [],
   "source": [
    "def readDistinctTxt(fileName):\n",
    "    \"\"\"\n",
    "    This function takes a file name and returns a list of distinct words.\n",
    "    \"\"\"\n",
    "    with open(fileName, 'r', encoding='utf-8') as f:\n",
    "        data = f.read()\n",
    "        data = re.sub(\"[^a-zA-Z \\n]+\", \"\",data)\n",
    "        data = data.lower()\n",
    "        data = data.split()\n",
    "        data = list(set(data))\n",
    "        return data"
   ]
  },
  {
   "cell_type": "markdown",
   "metadata": {},
   "source": [
    "### Flajolet Aciklama\n",
    " Hocam burada algoritma aciklamasi yerine yaptigim bazi ekstra vs seyleri aciklayacagim\n",
    " * Oncelikle Flajolet den cikacagini dusundugum icin odev de belirtmis olsanizda Hyperloglog'a girmedim onun yerine farkli hash'leri kombine ettim\n",
    " * Xor derste de bahsettigim gibi degerlerin Xor'unu aliyor\n",
    " * Harmonic ortalamanin mean'le beraber iyi sonuc verdigini okumustum o yuzden onu da ekledim ekstradan sadece onda kullandigim bir import islemim var\n",
    " * Combo dedigim ise tum harmonic haric tum islemlerin ortalamasinin alinmasi bunun sebebi harmonic ile mean'in zaten benzemesi ama mean'in bir tik daha guvenilir sonuclar vermesi belki tam tersidir tam emin degilim \n",
    " * Bu yuzden combo'da xor mean ve median'in ortalamasini aliyorum\n",
    " * / 0.77351 islemini derste degindiginiz ve wikipedia da oldugu icin ekledim \n",
    "\n",
    "### 2 adet Flajolet implementasyonu \n",
    "Hocam ben 2 adet farkli ama benzer implementasyonlar yaptim bunlardan su an comment'e alinmamis olan bir tik daha kotu calissa dahi genel olarak algoritma boyle oldugu icin acik biraktim isterseniz bir methodu kapayip digerini acarak vs test edebilirsiniz\n",
    " * Ilk method da once her hash icin maxNumber bulunuyor  O(k*n) constant zaman hala korunmakta ardindna bu maxNumber'lar arasindan mean vs islem yapiliyor\n",
    " * Ikinci method da ise bir veri icin k adet hash degeri aliniyor ardindan tek tek her adimda bu hash degerlerinin mean'i vs alinip bu degerin en buyuk degeri aliniyor.Buradan donulen sayi direkt olarak cevap diyebiliriz. Bu algoritmadan biraz cikiyor ama boyle de iyi sonuc aldigim icin bunu boyle birakiyorum."
   ]
  },
  {
   "cell_type": "code",
   "execution_count": 25,
   "metadata": {},
   "outputs": [],
   "source": [
    "def FlajoletMartin(fileName,k,mode):\n",
    "    \"\"\"\n",
    "    This function is implementing the FlajoletMartin algorithm. It takes a file name, number of hash functions and a mode.\n",
    "    It returns the number of distinct elements in the file.\n",
    "    \"\"\"\n",
    "    \n",
    "    data = readTxt(fileName)\n",
    "    valArr = []\n",
    "    for i in range(k):\n",
    "        maxNum=0\n",
    "        for index,datum in enumerate(data):\n",
    "            sum=0\n",
    "            hash = HASH_FUNCTIONS[i](datum)\n",
    "            val = bin(hash % len(data))[2:]\n",
    "            for j in range(len(val)-1,0,-1):\n",
    "                if val[j]=='0':\n",
    "                    sum+=1\n",
    "                else:\n",
    "                    break\n",
    "            if sum>maxNum:\n",
    "                maxNum=sum\n",
    "        valArr.append(2 ** maxNum)\n",
    "            # val = hash % len(data)\n",
    "    # print(valArr)\n",
    "    if mode == 'mean':\n",
    "        # count = 0 \n",
    "        # for i in valArr:\n",
    "        #     count += i\n",
    "        # val = count // len(valArr)\n",
    "        val = np.mean(valArr)\n",
    "    if mode == 'xor':\n",
    "        firstRun = True\n",
    "        for i in valArr:\n",
    "            if firstRun:\n",
    "                val = i\n",
    "                firstRun = False\n",
    "            else:\n",
    "                val ^=  i\n",
    "    if mode == 'median':\n",
    "        val = np.median(valArr)\n",
    "    elif mode == 'combo':\n",
    "        val1 = np.mean(valArr)\n",
    "        val2 = np.median(valArr)\n",
    "        firstRun = True\n",
    "        for i in valArr:\n",
    "            if firstRun:\n",
    "                val3 = i\n",
    "                firstRun = False\n",
    "            else:\n",
    "                val3 ^=  i\n",
    "        val4 = int(statistics.harmonic_mean(valArr))\n",
    "        # val = int(val1) ^ int(val2) ^ int(val3) ^ val4\n",
    "            # val = int(np.mean([val1,val4]))\n",
    "        val = int(np.mean([val1,val2,val3]))\n",
    "    elif mode == 'harmonic':\n",
    "        val = statistics.harmonic_mean(valArr)\n",
    "        # print(val)\n",
    "    return val   \n",
    "        \n",
    "# def FlajoletMartin(fileName,k,mode):\n",
    "#     \"\"\"\n",
    "#     This function is implementing the FlajoletMartin algorithm. It takes a file name, number of hash functions and a mode.\n",
    "#     It returns the number of distinct elements in the file.\n",
    "#     \"\"\"\n",
    "#     maxNum=0\n",
    "#     data = readTxt(fileName)\n",
    "#     for index,datum in enumerate(data):\n",
    "#         valArr = []\n",
    "#         for i in range(k):\n",
    "#             hash = HASH_FUNCTIONS[i](datum)\n",
    "#             # val = bin(hash % len(data))[2:]\n",
    "#             tmpVal = hash % len(data)\n",
    "#             valArr.append(tmpVal)\n",
    "#             sum=0\n",
    "#             # val = hash % len(data)\n",
    "#         # print(valArr)\n",
    "#         if mode == 'mean':\n",
    "#             # count = 0 \n",
    "#             # for i in valArr:\n",
    "#             #     count += i\n",
    "#             # val = count // len(valArr)\n",
    "#             val = int(np.mean(valArr))\n",
    "#         if mode == 'xor':\n",
    "#             firstRun = True\n",
    "#             for i in valArr:\n",
    "#                 if firstRun:\n",
    "#                     val = i\n",
    "#                     firstRun = False\n",
    "#                 else:\n",
    "#                     val ^=  i\n",
    "#         if mode == 'median':\n",
    "#             val = int(np.median(valArr))\n",
    "#         elif mode == 'combo':\n",
    "#             val1 = int(np.mean(valArr))\n",
    "#             val2 = int(np.median(valArr))\n",
    "#             firstRun = True\n",
    "#             for i in valArr:\n",
    "#                 if firstRun:\n",
    "#                     val3 = i\n",
    "#                     firstRun = False\n",
    "#                 else:\n",
    "#                     val3 ^=  i\n",
    "#             val4 = int(statistics.harmonic_mean(valArr))\n",
    "#             val = int(statistics.harmonic_mean([val1,val2,val3,val4]))\n",
    "#             # val = int(np.mean([val1,val4]))\n",
    "#             # val = int(np.mean([val1,val2,val3]))\n",
    "#         elif mode == 'harmonic':\n",
    "#             val = int(statistics.harmonic_mean(valArr))\n",
    "#         # print(val)\n",
    "#         val = bin(val)[2:]\n",
    "#         for j in range(len(val)-1,0,-1):\n",
    "#             if val[j]=='0':\n",
    "#                 sum+=1\n",
    "#             else:\n",
    "#                 break\n",
    "#         if sum>maxNum:\n",
    "#             maxNum=sum\n",
    "#     return 2**maxNum   \n",
    "        \n",
    "\n",
    "    "
   ]
  },
  {
   "cell_type": "code",
   "execution_count": 26,
   "metadata": {},
   "outputs": [
    {
     "name": "stdout",
     "output_type": "stream",
     "text": [
      "813 distinct element and 2000 total element on File Esperanto-Lipsum.txt\n",
      "distict elements Xor for 1 hash 330.9588757740688\n",
      "distict elements MEAN for 1 hash 330.9588757740688\n",
      "distict elements MEDIAN for 1 hash 330.9588757740688\n",
      "distict elements COMBO for 1 hash 330.9588757740688\n",
      "distict elements HARMONIC for 1 hash 330.9588757740688\n",
      "==========================================================\n",
      "distict elements Xor for 2 hash 992.8766273222066\n",
      "distict elements MEAN for 2 hash 496.4383136611033\n",
      "distict elements MEDIAN for 2 hash 496.4383136611033\n",
      "distict elements COMBO for 2 hash 661.9177515481376\n",
      "distict elements HARMONIC for 2 hash 441.27850103209175\n",
      "==========================================================\n",
      "distict elements Xor for 3 hash 330.9588757740688\n",
      "distict elements MEAN for 3 hash 551.5981262901148\n",
      "distict elements MEDIAN for 3 hash 661.9177515481376\n",
      "distict elements COMBO for 3 hash 514.5376271799977\n",
      "distict elements HARMONIC for 3 hash 496.4383136611033\n",
      "==========================================================\n",
      "distict elements Xor for 4 hash 992.8766273222066\n",
      "distict elements MEAN for 4 hash 579.1780326046205\n",
      "distict elements MEDIAN for 4 hash 661.9177515481376\n",
      "distict elements COMBO for 4 hash 744.6574704916549\n",
      "distict elements HARMONIC for 4 hash 529.5342012385101\n",
      "==========================================================\n",
      "distict elements Xor for 5 hash 330.9588757740688\n",
      "distict elements MEAN for 5 hash 595.7259763933239\n",
      "distict elements MEDIAN for 5 hash 661.9177515481376\n",
      "distict elements COMBO for 5 hash 528.7585163734146\n",
      "distict elements HARMONIC for 5 hash 551.5981262901148\n",
      "==========================================================\n"
     ]
    }
   ],
   "source": [
    "esperanto = readDistinctTxt('../Esperanto-Lipsum.txt')\n",
    "esperantoTotal= readTxt('../Esperanto-Lipsum.txt')\n",
    "print('%s distinct element and %s total element on File Esperanto-Lipsum.txt'% (len(esperanto),len(esperantoTotal)))\n",
    "for i in range(5):\n",
    "    maxNum =FlajoletMartin('../Esperanto-Lipsum.txt',i+1,'xor')\n",
    "    print('distict elements Xor for', i+1 ,'hash', (maxNum) / 0.77351)\n",
    "    maxNum =FlajoletMartin('../Esperanto-Lipsum.txt',i+1,'mean')\n",
    "    print('distict elements MEAN for',i+1 ,'hash', (maxNum) / 0.77351)\n",
    "    maxNum =FlajoletMartin('../Esperanto-Lipsum.txt',i+1,'median')\n",
    "    print('distict elements MEDIAN for',i+1 ,'hash', (maxNum) / 0.77351)\n",
    "    maxNum =FlajoletMartin('../Esperanto-Lipsum.txt',i+1,'combo')\n",
    "    print('distict elements COMBO for',i+1 ,'hash', (maxNum) / 0.77351)\n",
    "    maxNum =FlajoletMartin('../Esperanto-Lipsum.txt',i+1,'harmonic')\n",
    "    print('distict elements HARMONIC for',i+1 ,'hash', (maxNum) / 0.77351)\n",
    "    print('==========================================================')"
   ]
  },
  {
   "cell_type": "code",
   "execution_count": 27,
   "metadata": {},
   "outputs": [
    {
     "name": "stdout",
     "output_type": "stream",
     "text": [
      "186 distinct element and 3000 total element on File Lorem_Ipsum_3000.txt\n",
      "distict elements XOR for 1 hash 330.9588757740688\n",
      "distict elements MEAN for 1 hash 330.9588757740688\n",
      "distict elements MEDIAN for 1 hash 330.9588757740688\n",
      "distict elements COMBO for 1 hash 330.9588757740688\n",
      "distict elements HARMONIC for 1 hash 330.9588757740688\n",
      "==========================================================\n",
      "distict elements XOR for 2 hash 496.4383136611033\n",
      "distict elements MEAN for 2 hash 248.21915683055164\n",
      "distict elements MEDIAN for 2 hash 248.21915683055164\n",
      "distict elements COMBO for 2 hash 330.9588757740688\n",
      "distict elements HARMONIC for 2 hash 220.63925051604588\n",
      "==========================================================\n",
      "distict elements XOR for 3 hash 165.4794378870344\n",
      "distict elements MEAN for 3 hash 275.7990631450574\n",
      "distict elements MEDIAN for 3 hash 330.9588757740688\n",
      "distict elements COMBO for 3 hash 257.26881358999884\n",
      "distict elements HARMONIC for 3 hash 248.21915683055164\n",
      "==========================================================\n",
      "distict elements XOR for 4 hash 0.0\n",
      "distict elements MEAN for 4 hash 248.21915683055164\n",
      "distict elements MEDIAN for 4 hash 248.21915683055164\n",
      "distict elements COMBO for 4 hash 165.4794378870344\n",
      "distict elements HARMONIC for 4 hash 220.63925051604588\n",
      "==========================================================\n",
      "distict elements XOR for 5 hash 330.9588757740688\n",
      "distict elements MEAN for 5 hash 264.7671006192551\n",
      "distict elements MEDIAN for 5 hash 330.9588757740688\n",
      "distict elements COMBO for 5 hash 307.6883298212046\n",
      "distict elements HARMONIC for 5 hash 236.39919698147776\n",
      "==========================================================\n"
     ]
    }
   ],
   "source": [
    "esperanto = readDistinctTxt('../Lorem_Ipsum_3000.txt')\n",
    "esperantoTotal= readTxt('../Lorem_Ipsum_3000.txt')\n",
    "print('%s distinct element and %s total element on File Lorem_Ipsum_3000.txt'% (len(esperanto),len(esperantoTotal)))\n",
    "for i in range(5):\n",
    "    maxNum = FlajoletMartin('../Lorem_Ipsum_3000.txt',i+1,'xor')\n",
    "    print('distict elements XOR for',i+1 ,'hash', (maxNum)/ 0.77351)\n",
    "    maxNum = FlajoletMartin('../Lorem_Ipsum_3000.txt',i+1,'mean')\n",
    "    print('distict elements MEAN for',i+1 ,'hash', (maxNum)/ 0.77351)\n",
    "    maxNum = FlajoletMartin('../Lorem_Ipsum_3000.txt',i+1,'median')\n",
    "    print('distict elements MEDIAN for',i+1 ,'hash', (maxNum)/ 0.77351)\n",
    "    maxNum =FlajoletMartin('../Lorem_Ipsum_3000.txt',i+1,'combo')\n",
    "    print('distict elements COMBO for',i+1 ,'hash', (maxNum) / 0.77351)\n",
    "    maxNum =FlajoletMartin('../Lorem_Ipsum_3000.txt',i+1,'harmonic')\n",
    "    print('distict elements HARMONIC for',i+1 ,'hash', (maxNum) / 0.77351)\n",
    "    print('==========================================================')"
   ]
  },
  {
   "cell_type": "code",
   "execution_count": 28,
   "metadata": {},
   "outputs": [
    {
     "name": "stdout",
     "output_type": "stream",
     "text": [
      "1431 distinct element and 3974 total element on File test_dosyasi.txt\n",
      "distict elements XOR for 1 hash 661.9177515481376\n",
      "distict elements MEAN for 1 hash 661.9177515481376\n",
      "distict elements MEDIAN for 1 hash 661.9177515481376\n",
      "distict elements COMBO for 1 hash 661.9177515481376\n",
      "distict elements HARMONIC for 1 hash 661.9177515481376\n",
      "==========================================================\n",
      "distict elements XOR for 2 hash 3309.5887577406884\n",
      "distict elements MEAN for 2 hash 1654.7943788703442\n",
      "distict elements MEDIAN for 2 hash 1654.7943788703442\n",
      "distict elements COMBO for 2 hash 2205.530633088131\n",
      "distict elements HARMONIC for 2 hash 1059.0684024770203\n",
      "==========================================================\n",
      "distict elements XOR for 3 hash 3640.5476335147573\n",
      "distict elements MEAN for 3 hash 1213.5158778382524\n",
      "distict elements MEDIAN for 3 hash 661.9177515481376\n",
      "distict elements COMBO for 3 hash 1838.373130276273\n",
      "distict elements HARMONIC for 3 hash 611.0010014290502\n",
      "==========================================================\n",
      "distict elements XOR for 4 hash 2978.6298819666195\n",
      "distict elements MEAN for 4 hash 1075.6163462657237\n",
      "distict elements MEDIAN for 4 hash 661.9177515481376\n",
      "distict elements COMBO for 4 hash 1572.054659926827\n",
      "distict elements HARMONIC for 4 hash 622.9814132217766\n",
      "==========================================================\n",
      "distict elements XOR for 5 hash 3640.5476335147573\n",
      "distict elements MEAN for 5 hash 992.8766273222066\n",
      "distict elements MEDIAN for 5 hash 661.9177515481376\n",
      "distict elements COMBO for 5 hash 1764.683068092203\n",
      "distict elements HARMONIC for 5 hash 630.397858617274\n",
      "==========================================================\n"
     ]
    }
   ],
   "source": [
    "esperanto = readDistinctTxt('../test_dosyasi.txt')\n",
    "esperantoTotal= readTxt('../test_dosyasi.txt')\n",
    "print('%s distinct element and %s total element on File test_dosyasi.txt'% (len(esperanto),len(esperantoTotal)))\n",
    "for i in range(5):\n",
    "    maxNum = FlajoletMartin('../test_dosyasi.txt',i+1,'xor')\n",
    "    print('distict elements XOR for',i+1 ,'hash', (maxNum) / 0.77351)\n",
    "    maxNum = FlajoletMartin('../test_dosyasi.txt',i+1,'mean')\n",
    "    print('distict elements MEAN for',i+1 ,'hash', (maxNum) / 0.77351)\n",
    "    maxNum = FlajoletMartin('../test_dosyasi.txt',i+1,'median')\n",
    "    print('distict elements MEDIAN for',i+1 ,'hash', (maxNum) / 0.77351)\n",
    "    maxNum =FlajoletMartin('../test_dosyasi.txt',i+1,'combo')\n",
    "    print('distict elements COMBO for',i+1 ,'hash', (maxNum) / 0.77351)\n",
    "    maxNum =FlajoletMartin('../test_dosyasi.txt',i+1,'harmonic')\n",
    "    print('distict elements HARMONIC for',i+1 ,'hash', (maxNum) / 0.77351)\n",
    "    print('==========================================================')\n"
   ]
  },
  {
   "cell_type": "code",
   "execution_count": 29,
   "metadata": {},
   "outputs": [
    {
     "name": "stdout",
     "output_type": "stream",
     "text": [
      "1430 distinct element and 1885 total element on File test_dosyasi_2.txt\n",
      "distict elements XOR for 1 hash 661.9177515481376\n",
      "distict elements MEAN for 1 hash 661.9177515481376\n",
      "distict elements MEDIAN for 1 hash 661.9177515481376\n",
      "distict elements COMBO for 1 hash 661.9177515481376\n",
      "distict elements HARMONIC for 1 hash 661.9177515481376\n",
      "==========================================================\n",
      "distict elements XOR for 2 hash 1985.7532546444131\n",
      "distict elements MEAN for 2 hash 992.8766273222066\n",
      "distict elements MEDIAN for 2 hash 992.8766273222066\n",
      "distict elements COMBO for 2 hash 1323.8355030962753\n",
      "distict elements HARMONIC for 2 hash 882.5570020641835\n",
      "==========================================================\n",
      "distict elements XOR for 3 hash 2316.712130418482\n",
      "distict elements MEAN for 3 hash 772.2373768061607\n",
      "distict elements MEDIAN for 3 hash 661.9177515481376\n",
      "distict elements COMBO for 3 hash 1250.1454409122055\n",
      "distict elements HARMONIC for 3 hash 567.3580727555466\n",
      "==========================================================\n",
      "distict elements XOR for 4 hash 992.8766273222066\n",
      "distict elements MEAN for 4 hash 910.1369083786893\n",
      "distict elements MEDIAN for 4 hash 992.8766273222066\n",
      "distict elements COMBO for 4 hash 964.4348489353724\n",
      "distict elements HARMONIC for 4 hash 661.9177515481376\n",
      "==========================================================\n",
      "distict elements XOR for 5 hash 2316.712130418482\n",
      "distict elements MEAN for 5 hash 992.8766273222066\n",
      "distict elements MEDIAN for 5 hash 1323.8355030962753\n",
      "distict elements COMBO for 5 hash 1543.612881539993\n",
      "distict elements HARMONIC for 5 hash 735.4641683868197\n",
      "==========================================================\n"
     ]
    }
   ],
   "source": [
    "esperanto = readDistinctTxt('../test_dosyasi_2.txt')\n",
    "esperantoTotal= readTxt('../test_dosyasi_2.txt')\n",
    "print('%s distinct element and %s total element on File test_dosyasi_2.txt'% (len(esperanto),len(esperantoTotal)))\n",
    "for i in range(5):\n",
    "    maxNum = FlajoletMartin('../test_dosyasi_2.txt',i+1,'xor')\n",
    "    print('distict elements XOR for',i+1 ,'hash', (maxNum) / 0.77351)\n",
    "    maxNum = FlajoletMartin('../test_dosyasi_2.txt',i+1,'mean')\n",
    "    print('distict elements MEAN for',i+1 ,'hash', (maxNum) / 0.77351)\n",
    "    maxNum = FlajoletMartin('../test_dosyasi_2.txt',i+1,'median')\n",
    "    print('distict elements MEDIAN for',i+1 ,'hash', (maxNum) / 0.77351)\n",
    "    maxNum =FlajoletMartin('../test_dosyasi_2.txt',i+1,'combo')\n",
    "    print('distict elements COMBO for',i+1 ,'hash', (maxNum) / 0.77351)\n",
    "    maxNum =FlajoletMartin('../test_dosyasi_2.txt',i+1,'harmonic')\n",
    "    print('distict elements HARMONIC for',i+1 ,'hash', (maxNum) / 0.77351)\n",
    "    print('==========================================================')"
   ]
  }
 ],
 "metadata": {
  "kernelspec": {
   "display_name": "Python 3.9.10 64-bit",
   "language": "python",
   "name": "python3"
  },
  "language_info": {
   "codemirror_mode": {
    "name": "ipython",
    "version": 3
   },
   "file_extension": ".py",
   "mimetype": "text/x-python",
   "name": "python",
   "nbconvert_exporter": "python",
   "pygments_lexer": "ipython3",
   "version": "3.9.10"
  },
  "orig_nbformat": 4,
  "vscode": {
   "interpreter": {
    "hash": "fb6f848763d47546d6014efaead80bd49242d8f24931264c6779730a149dc067"
   }
  }
 },
 "nbformat": 4,
 "nbformat_minor": 2
}
